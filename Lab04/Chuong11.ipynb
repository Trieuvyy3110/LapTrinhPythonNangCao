{
  "nbformat": 4,
  "nbformat_minor": 0,
  "metadata": {
    "colab": {
      "name": "Chuong11.ipynb",
      "provenance": [],
      "collapsed_sections": [],
      "authorship_tag": "ABX9TyPJ+1rNuGPg6/pLFQdyQso+",
      "include_colab_link": true
    },
    "kernelspec": {
      "name": "python3",
      "display_name": "Python 3"
    },
    "language_info": {
      "name": "python"
    }
  },
  "cells": [
    {
      "cell_type": "markdown",
      "metadata": {
        "id": "view-in-github",
        "colab_type": "text"
      },
      "source": [
        "<a href=\"https://colab.research.google.com/github/Trieuvyy3110/LapTrinhPythonNangCao/blob/main/Lab04/Chuong11.ipynb\" target=\"_parent\"><img src=\"https://colab.research.google.com/assets/colab-badge.svg\" alt=\"Open In Colab\"/></a>"
      ]
    },
    {
      "cell_type": "markdown",
      "metadata": {
        "id": "EUJRm0SMUoGX"
      },
      "source": [
        "Bài 1:"
      ]
    },
    {
      "cell_type": "code",
      "metadata": {
        "colab": {
          "base_uri": "https://localhost:8080/"
        },
        "id": "xUu13D9SWC_8",
        "outputId": "03dbb31c-3a7d-463b-ca5f-a2a9e8260702"
      },
      "source": [
        "from collections import Counter\n",
        "list1 = [3,1,1,0,2,0,0,0]\n",
        "def find_dups():\n",
        "  print(Counter(list1))\n",
        "find_dups()\n"
      ],
      "execution_count": null,
      "outputs": [
        {
          "output_type": "stream",
          "name": "stdout",
          "text": [
            "Counter({0: 4, 1: 2, 3: 1, 2: 1})\n"
          ]
        }
      ]
    },
    {
      "cell_type": "markdown",
      "metadata": {
        "id": "HD9v59_NTNGh"
      },
      "source": [
        "Bài 2:"
      ]
    },
    {
      "cell_type": "code",
      "metadata": {
        "id": "VXT2-armTNL7",
        "outputId": "5fc0f28d-1180-4de8-9789-81246dee28e8",
        "colab": {
          "base_uri": "https://localhost:8080/"
        }
      },
      "source": [
        "def read_molecule(reader):\n",
        "    \n",
        "    line = reader.readline()\n",
        "    if not line:\n",
        "        return None\n",
        "\n",
        "    key, name = line.split()\n",
        "\n",
        "    molecule = [name]\n",
        "    line = reader.readline()\n",
        "    \n",
        "   \n",
        "    while not line.startswith('END'):\n",
        "        key, num, atom_type, x, y, z = line.split()\n",
        "        molecule.append([atom_type, x, y, z])\n",
        "        line = reader.readline()\n",
        "    return molecule\n",
        "\n",
        "def read_all_molecules(reader):\n",
        "    result = []\n",
        "    reading = True\n",
        "    while reading:\n",
        "        molecule = read_molecule(reader)\n",
        "        if molecule: \n",
        "            result.append(molecule)\n",
        "        else:\n",
        "            reading = False\n",
        "    return result\n",
        "if __name__ == \"__main__\":\n",
        "    molecule_file = open('/content/sample_data/multimol','r')\n",
        "    molecules = read_all_molecules(molecule_file)\n",
        "    print(molecules)"
      ],
      "execution_count": 12,
      "outputs": [
        {
          "output_type": "stream",
          "name": "stdout",
          "text": [
            "[['AMMONIA', ['N', '0.257', '-0.363', '0.000'], ['H', '0.257', '0.727', '0.000'], ['H', '0.771', '-0.727', '0.890'], ['H', '0.771', '-0.727', '-0.890']], ['METHANOL', ['C', '-0.748', '-0.015', '0.024'], ['O', '0.558', '0.420', '-0.278'], ['H', '-1.293', '-0.202', '-0.901'], ['H', '-1.263', '0.754', '0.600'], ['H', '-0.699', '-0.934', '0.609'], ['H', '0.716', '1.404', '0.137']]]\n"
          ]
        }
      ]
    },
    {
      "cell_type": "markdown",
      "metadata": {
        "id": "-bo1dmVDTNR3"
      },
      "source": [
        "Bài 3:"
      ]
    },
    {
      "cell_type": "code",
      "metadata": {
        "id": "cOr-roL4TNXN",
        "outputId": "a76c4ceb-8b4e-402b-841f-3b6d526ba1b2",
        "colab": {
          "base_uri": "https://localhost:8080/"
        }
      },
      "source": [
        "\n",
        "def mating_pairs(males, females):\n",
        "    try:\n",
        "        pairs = set()\n",
        "        num_gerbils = len(males)\n",
        "        for i in range(num_gerbils):\n",
        "            male = males.pop()\n",
        "            female = females.pop()\n",
        "            pairs.add((male, female),)\n",
        "        return pairs\n",
        "    except:\n",
        "        return print(\"Số lượng Males và Females phải bằng nhau\")\n",
        "males = {'Nam1', 'Nam2', 'Nam3'}\n",
        "females = {'Nu1', 'Nu2', 'Nu3'}\n",
        "mating_pairs(males, females)"
      ],
      "execution_count": 6,
      "outputs": [
        {
          "output_type": "execute_result",
          "data": {
            "text/plain": [
              "{('Nam1', 'Nu1'), ('Nam2', 'Nu2'), ('Nam3', 'Nu3')}"
            ]
          },
          "metadata": {},
          "execution_count": 6
        }
      ]
    },
    {
      "cell_type": "markdown",
      "metadata": {
        "id": "TB0JZEUpTNc4"
      },
      "source": [
        "Bài 4:"
      ]
    },
    {
      "cell_type": "code",
      "metadata": {
        "id": "QH7HeIvjTNkz",
        "outputId": "cbe8fa76-b8d6-4d4a-a024-2021df3e9e41",
        "colab": {
          "base_uri": "https://localhost:8080/"
        }
      },
      "source": [
        "def get_authors(filenames):\n",
        "    authors = set()\n",
        "    for filename in filenames:\n",
        "        for line in open(filename,'r'):\n",
        "            if line.lower().startswith('author'):\n",
        "                author = line[6:].strip()\n",
        "                authors.add(author)\n",
        "    return authors\n",
        "if __name__ == \"__main__\":\n",
        "    list_file = ['/content/sample_data/PDB_1','/content/sample_data/PDB_2']\n",
        "    print(get_authors(list_file))"
      ],
      "execution_count": 11,
      "outputs": [
        {
          "output_type": "stream",
          "name": "stdout",
          "text": [
            "{'J.K.Rowling', 'Trieu Vy'}\n"
          ]
        }
      ]
    },
    {
      "cell_type": "markdown",
      "metadata": {
        "id": "7C0ThHvlTN_i"
      },
      "source": [
        "Bài 7:"
      ]
    },
    {
      "cell_type": "code",
      "metadata": {
        "id": "vg9JqYOsTOEi",
        "outputId": "d6edfced-f8e0-4567-9bd2-288030151689",
        "colab": {
          "base_uri": "https://localhost:8080/"
        }
      },
      "source": [
        "dict1 = {'a':1, 'b':2,'c':2,'d':3,'e':3}\n",
        "def count_duplicates(dict1):\n",
        "    dict2 = { }\n",
        "  \n",
        "    for key, value in dict1.items(): \n",
        "        dict2.setdefault(value, set()).add(key) \n",
        "          \n",
        "    result = [key for key, values in dict2.items() if len(values) > 1] \n",
        "    print(\"Duplicate values are: \", result)\n",
        "\n",
        "    output = len(result)\n",
        "    print(\"The number of values that appear two or more times are:\" , output)\n",
        "count_duplicates(dict1)\n"
      ],
      "execution_count": 27,
      "outputs": [
        {
          "output_type": "stream",
          "name": "stdout",
          "text": [
            "Duplicate values are:  [2, 3]\n",
            "The number of values that appear two or more times are: 2\n"
          ]
        }
      ]
    },
    {
      "cell_type": "markdown",
      "metadata": {
        "id": "6rFfCfDgTOJ-"
      },
      "source": [
        "Bài 9:"
      ]
    },
    {
      "cell_type": "code",
      "metadata": {
        "id": "B34SfhvXhKOs",
        "outputId": "36e6d633-af28-4757-c60d-172e6d6139a4",
        "colab": {
          "base_uri": "https://localhost:8080/"
        }
      },
      "source": [
        "dict1= {'a':1, 'b':2, 'c':3}\n",
        "dict2= {'a':1, 'b':2, 'c':0, 'd':4}\n",
        "print('Dict1:',dict1)\n",
        "print('Dict2:',dict2)\n",
        "def dict_intersect(dict1,dict2):\n",
        "  dict3 = dict(dict1.items() & dict2.items())\n",
        "  print (\"New dictionary\", str(dict3))\n",
        "dict_intersect(dict1,dict2)\n",
        "\n",
        "\n"
      ],
      "execution_count": 46,
      "outputs": [
        {
          "output_type": "stream",
          "name": "stdout",
          "text": [
            "Dict1: {'a': 1, 'b': 2, 'c': 3}\n",
            "Dict2: {'a': 1, 'b': 2, 'c': 0, 'd': 4}\n",
            "New dictionary {'a': 1, 'b': 2}\n"
          ]
        }
      ]
    }
  ]
}