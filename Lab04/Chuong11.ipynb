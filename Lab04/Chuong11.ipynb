{
  "nbformat": 4,
  "nbformat_minor": 0,
  "metadata": {
    "colab": {
      "name": "Chuong11.ipynb",
      "provenance": [],
      "collapsed_sections": [],
      "authorship_tag": "ABX9TyPvahIawNOoxfwcQm5SrPgq",
      "include_colab_link": true
    },
    "kernelspec": {
      "name": "python3",
      "display_name": "Python 3"
    },
    "language_info": {
      "name": "python"
    }
  },
  "cells": [
    {
      "cell_type": "markdown",
      "metadata": {
        "id": "view-in-github",
        "colab_type": "text"
      },
      "source": [
        "<a href=\"https://colab.research.google.com/github/Trieuvyy3110/LapTrinhPythonNangCao/blob/main/Lab04/Chuong11.ipynb\" target=\"_parent\"><img src=\"https://colab.research.google.com/assets/colab-badge.svg\" alt=\"Open In Colab\"/></a>"
      ]
    },
    {
      "cell_type": "markdown",
      "metadata": {
        "id": "EUJRm0SMUoGX"
      },
      "source": [
        "Bài 1:"
      ]
    },
    {
      "cell_type": "code",
      "metadata": {
        "colab": {
          "base_uri": "https://localhost:8080/"
        },
        "id": "xUu13D9SWC_8",
        "outputId": "03dbb31c-3a7d-463b-ca5f-a2a9e8260702"
      },
      "source": [
        "from collections import Counter\n",
        "list1 = [3,1,1,0,2,0,0,0]\n",
        "def find_dups():\n",
        "  print(Counter(list1))\n",
        "find_dups()\n"
      ],
      "execution_count": 8,
      "outputs": [
        {
          "output_type": "stream",
          "name": "stdout",
          "text": [
            "Counter({0: 4, 1: 2, 3: 1, 2: 1})\n"
          ]
        }
      ]
    }
  ]
}