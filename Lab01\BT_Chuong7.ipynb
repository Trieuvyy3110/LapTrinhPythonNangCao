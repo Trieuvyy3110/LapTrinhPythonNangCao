{
  "nbformat": 4,
  "nbformat_minor": 0,
  "metadata": {
    "colab": {
      "name": "BT_Chuong7.ipynb",
      "provenance": [],
      "collapsed_sections": [],
      "authorship_tag": "ABX9TyPH1fnNT4EkyqpItEnXSeXy",
      "include_colab_link": true
    },
    "kernelspec": {
      "name": "python3",
      "display_name": "Python 3"
    },
    "language_info": {
      "name": "python"
    }
  },
  "cells": [
    {
      "cell_type": "markdown",
      "metadata": {
        "id": "view-in-github",
        "colab_type": "text"
      },
      "source": [
        "<a href=\"https://colab.research.google.com/github/Trieuvyy3110/LapTrinhPythonNangCao/blob/main/Lab01%5CBT_Chuong7.ipynb\" target=\"_parent\"><img src=\"https://colab.research.google.com/assets/colab-badge.svg\" alt=\"Open In Colab\"/></a>"
      ]
    },
    {
      "cell_type": "markdown",
      "metadata": {
        "id": "oMys1Ys7iYGL"
      },
      "source": [
        "Bài 1:"
      ]
    },
    {
      "cell_type": "code",
      "metadata": {
        "colab": {
          "base_uri": "https://localhost:8080/"
        },
        "id": "wVUcUrlCipSb",
        "outputId": "cadb2a28-9ef4-4146-9840-6c16df52ac20"
      },
      "source": [
        "str1='Hello'\n",
        "print(str1.upper())\n",
        "str2='Happy Birthday!'\n",
        "print(str2.lower())\n",
        "str3='WeeeEEEEeeeEEEEeee'\n",
        "print(str3.swapcase())\n",
        "str4='ABC123'\n",
        "print(str4.isupper())\n",
        "str5='aeiouAEIOU'\n",
        "print(str5.count('a'))\n",
        "str6='hello'\n",
        "print(str6.endswith('o'))\n",
        "str7='hello'\n",
        "print(str6.startswith('H'))\n",
        "str8='Hello {0}'.format('Python')\n",
        "print(str8)\n",
        "str9='Hello {0}! Hello {1}!'.format('Python', 'World')\n",
        "print(str9)\n",
        "\n"
      ],
      "execution_count": 20,
      "outputs": [
        {
          "output_type": "stream",
          "name": "stdout",
          "text": [
            "HELLO\n",
            "happy birthday!\n",
            "wEEEeeeeEEEeeeeEEE\n",
            "True\n",
            "1\n",
            "True\n",
            "False\n",
            "Hello Python\n",
            "Hello Python! Hello World!\n"
          ]
        }
      ]
    },
    {
      "cell_type": "markdown",
      "metadata": {
        "id": "Kf6umVrlmZus"
      },
      "source": [
        "Bài 3:"
      ]
    },
    {
      "cell_type": "code",
      "metadata": {
        "colab": {
          "base_uri": "https://localhost:8080/"
        },
        "id": "3PAB0uRWmcEy",
        "outputId": "553ab242-55fe-48c9-8382-2236645222aa"
      },
      "source": [
        "a = 'tomato'\n",
        "b = 'o'\n",
        "\n",
        "c = a.find(b)\n",
        "print(c)"
      ],
      "execution_count": 21,
      "outputs": [
        {
          "output_type": "stream",
          "name": "stdout",
          "text": [
            "1\n"
          ]
        }
      ]
    },
    {
      "cell_type": "markdown",
      "metadata": {
        "id": "KklW50gwo78B"
      },
      "source": [
        "Bài 6:"
      ]
    },
    {
      "cell_type": "code",
      "metadata": {
        "colab": {
          "base_uri": "https://localhost:8080/"
        },
        "id": "LdXzMYVeo9cD",
        "outputId": "344e0635-108f-40f4-bc4a-1c1437cd43f2"
      },
      "source": [
        "str = 'runner'\n",
        "str1 = str.replace(\"n\", \"b\")\n",
        "print(str1)"
      ],
      "execution_count": 29,
      "outputs": [
        {
          "output_type": "stream",
          "name": "stdout",
          "text": [
            "rubber\n"
          ]
        }
      ]
    },
    {
      "cell_type": "markdown",
      "metadata": {
        "id": "YxlR9LprqIwM"
      },
      "source": [
        "Bài 8:"
      ]
    },
    {
      "cell_type": "code",
      "metadata": {
        "colab": {
          "base_uri": "https://localhost:8080/"
        },
        "id": "EKZ-46NRqKCh",
        "outputId": "d12d6278-738e-41e9-e427-f71bad02e025"
      },
      "source": [
        "fruit = 'pineapple'\n",
        "a = \"p\";\n",
        "print(fruit.count(a))\n",
        "print(fruit.upper().swapcase())\n",
        "fruit1 = fruit.replace (fruit.swapcase (), fruit.lower ())\n",
        "print(fruit1)"
      ],
      "execution_count": 40,
      "outputs": [
        {
          "output_type": "stream",
          "name": "stdout",
          "text": [
            "3\n",
            "pineapple\n",
            "pineapple\n"
          ]
        }
      ]
    },
    {
      "cell_type": "markdown",
      "metadata": {
        "id": "F9OINVWasDAk"
      },
      "source": [
        "Bài 9:"
      ]
    },
    {
      "cell_type": "code",
      "metadata": {
        "colab": {
          "base_uri": "https://localhost:8080/"
        },
        "id": "tLdh28qtsEzB",
        "outputId": "90430824-c95d-4387-976f-9bc7796f1d37"
      },
      "source": [
        "txt= \"I love {a} !\"\n",
        "print(txt.format(a =\"summer\"))"
      ],
      "execution_count": 45,
      "outputs": [
        {
          "output_type": "stream",
          "name": "stdout",
          "text": [
            "I love summer !\n"
          ]
        }
      ]
    },
    {
      "cell_type": "markdown",
      "metadata": {
        "id": "u6jhLekHsgy5"
      },
      "source": [
        "Bài 11:"
      ]
    },
    {
      "cell_type": "code",
      "metadata": {
        "colab": {
          "base_uri": "https://localhost:8080/"
        },
        "id": "7CmNgU0BtqOZ",
        "outputId": "dafc0a61-fe31-4ab7-ea12-229cbff3b9a8"
      },
      "source": [
        "str1 = 'hihi'\n",
        "str2 = ''\n",
        "\n",
        "for i in range(len(str1)):\n",
        "    str2 = str2 + str1[i]\n",
        "print(str1)\n",
        "print(str2)"
      ],
      "execution_count": 49,
      "outputs": [
        {
          "output_type": "stream",
          "name": "stdout",
          "text": [
            "hihi\n",
            "hihi\n"
          ]
        }
      ]
    }
  ]
}