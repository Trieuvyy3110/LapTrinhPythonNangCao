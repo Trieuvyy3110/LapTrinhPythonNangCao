{
  "nbformat": 4,
  "nbformat_minor": 0,
  "metadata": {
    "colab": {
      "name": "Chuong14.ipynb",
      "provenance": [],
      "collapsed_sections": [],
      "authorship_tag": "ABX9TyMhArYLoVHijjiwWsie3+7U",
      "include_colab_link": true
    },
    "kernelspec": {
      "name": "python3",
      "display_name": "Python 3"
    },
    "language_info": {
      "name": "python"
    }
  },
  "cells": [
    {
      "cell_type": "markdown",
      "metadata": {
        "id": "view-in-github",
        "colab_type": "text"
      },
      "source": [
        "<a href=\"https://colab.research.google.com/github/Trieuvyy3110/LapTrinhPythonNangCao/blob/main/Lab05/Chuong14.ipynb\" target=\"_parent\"><img src=\"https://colab.research.google.com/assets/colab-badge.svg\" alt=\"Open In Colab\"/></a>"
      ]
    },
    {
      "cell_type": "markdown",
      "metadata": {
        "id": "rWPS1jhGlWcw"
      },
      "source": [
        "Bài 1:"
      ]
    },
    {
      "cell_type": "code",
      "metadata": {
        "id": "XWipkzpzlXDU"
      },
      "source": [
        "class Country:\n",
        "    def __init__(self,name,population,area):\n",
        "        self.name = name\n",
        "        self.population = population\n",
        "        self.area = area\n",
        "    def is_larger(self,objCountry):\n",
        "        if self.area >= objCountry.area:\n",
        "            return True\n",
        "        else:\n",
        "            return False \n",
        "    def show_info(self):\n",
        "      print(self.name,self.population,self.area)\n",
        "    "
      ],
      "execution_count": 31,
      "outputs": []
    },
    {
      "cell_type": "code",
      "metadata": {
        "colab": {
          "base_uri": "https://localhost:8080/"
        },
        "id": "NKaZjRU5l10T",
        "outputId": "fd349873-38a9-4a3f-a7d6-dfa905688df2"
      },
      "source": [
        " canada = Country('Canada', 34482779, 9984670)\n",
        " canada.show_info()"
      ],
      "execution_count": 32,
      "outputs": [
        {
          "output_type": "stream",
          "name": "stdout",
          "text": [
            "Canada 34482779 9984670\n"
          ]
        }
      ]
    },
    {
      "cell_type": "code",
      "metadata": {
        "colab": {
          "base_uri": "https://localhost:8080/"
        },
        "id": "60QRz0spjEqz",
        "outputId": "2756274b-28f4-4619-b48c-cfb453a692f0"
      },
      "source": [
        "canada.is_larger(usa)"
      ],
      "execution_count": 34,
      "outputs": [
        {
          "output_type": "execute_result",
          "data": {
            "text/plain": [
              "True"
            ]
          },
          "metadata": {},
          "execution_count": 34
        }
      ]
    },
    {
      "cell_type": "code",
      "metadata": {
        "colab": {
          "base_uri": "https://localhost:8080/"
        },
        "id": "_IyOPksRo_Gu",
        "outputId": "30e20bce-bc36-4519-f561-bd684e4603a8"
      },
      "source": [
        "def population_desity(self):\n",
        "  return self.population/self.area\n",
        "population_desity(canada)"
      ],
      "execution_count": 40,
      "outputs": [
        {
          "output_type": "execute_result",
          "data": {
            "text/plain": [
              "3.4535722262227995"
            ]
          },
          "metadata": {},
          "execution_count": 40
        }
      ]
    },
    {
      "cell_type": "code",
      "metadata": {
        "colab": {
          "base_uri": "https://localhost:8080/",
          "height": 35
        },
        "id": "DEaFrygtplYv",
        "outputId": "79880ddd-57ac-416a-8c22-500e408729d1"
      },
      "source": [
        "def __str__(self):\n",
        "  return('{} has a population of and is {} sqare km'.format(self.name,self.population,self.area))\n",
        "usa = Country('United States of America', 313914040, 9826675)\n",
        "str(usa)"
      ],
      "execution_count": 42,
      "outputs": [
        {
          "output_type": "execute_result",
          "data": {
            "application/vnd.google.colaboratory.intrinsic+json": {
              "type": "string"
            },
            "text/plain": [
              "'<__main__.Country object at 0x7fc18d47ed50>'"
            ]
          },
          "metadata": {},
          "execution_count": 42
        }
      ]
    }
  ]
}