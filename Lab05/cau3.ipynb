{
 "cells": [
  {
   "cell_type": "code",
   "execution_count": 14,
   "metadata": {},
   "outputs": [],
   "source": [
    "from Student import Student"
   ]
  },
  {
   "cell_type": "code",
   "execution_count": 16,
   "metadata": {},
   "outputs": [
    {
     "name": "stdout",
     "output_type": "stream",
     "text": [
      "Name of the student : Trieu Vy \n",
      "Address : TP.HCM \n",
      "email : trieuvyy3110@gmail.com \n",
      "Student number : 311000 \n",
      "Courses_taken : [] \n",
      "Courses_taking : [] \n",
      "\n"
     ]
    }
   ],
   "source": [
    "student1 = Student(\"Trieu Vy\",\"TP.HCM\",\"trieuvyy3110@gmail.com\", 311000)\n",
    "print(student1)"
   ]
  },
  {
   "cell_type": "code",
   "execution_count": 17,
   "metadata": {},
   "outputs": [
    {
     "name": "stdout",
     "output_type": "stream",
     "text": [
      "Name of the student : Trieu Vy \n",
      "Address : TP.HCM \n",
      "email : trieuvyy3110@gmail.com \n",
      "Student number : 311000 \n",
      "Courses_taken : ['Python', 'OOP'] \n",
      "Courses_taking : [] \n",
      "\n"
     ]
    }
   ],
   "source": [
    "student1.courses_taken = [\"Python\",\"OOP\"]\n",
    "print(student1)"
   ]
  },
  {
   "cell_type": "code",
   "execution_count": 18,
   "metadata": {},
   "outputs": [
    {
     "name": "stdout",
     "output_type": "stream",
     "text": [
      "Name of the student : Trieu Vy \n",
      "Address : TP.HCM \n",
      "email : trieuvyy3110@gmail.com \n",
      "Student number : 311000 \n",
      "Courses_taken : ['Python', 'OOP'] \n",
      "Courses_taking : ['Advanced python programming'] \n",
      "\n"
     ]
    }
   ],
   "source": [
    "student1.courses_taking = [\"Advanced python programming\"]\n",
    "print(student1)"
   ]
  }
 ],
 "metadata": {
  "interpreter": {
   "hash": "dcacb0086e9a4f4eabd41c33bf4faac5ea0a3337ed3f5eff0680afa930572c04"
  },
  "kernelspec": {
   "display_name": "Python 3.9.6 64-bit",
   "name": "python3"
  },
  "language_info": {
   "codemirror_mode": {
    "name": "ipython",
    "version": 3
   },
   "file_extension": ".py",
   "mimetype": "text/x-python",
   "name": "python",
   "nbconvert_exporter": "python",
   "pygments_lexer": "ipython3",
   "version": "3.9.6"
  },
  "orig_nbformat": 4
 },
 "nbformat": 4,
 "nbformat_minor": 2
}
