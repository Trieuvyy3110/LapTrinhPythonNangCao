{
  "nbformat": 4,
  "nbformat_minor": 0,
  "metadata": {
    "colab": {
      "name": "Chuong8.ipynb",
      "provenance": [],
      "authorship_tag": "ABX9TyNVkaFmD+6g4ELRdwoFRWTL",
      "include_colab_link": true
    },
    "kernelspec": {
      "name": "python3",
      "display_name": "Python 3"
    },
    "language_info": {
      "name": "python"
    }
  },
  "cells": [
    {
      "cell_type": "markdown",
      "metadata": {
        "id": "view-in-github",
        "colab_type": "text"
      },
      "source": [
        "<a href=\"https://colab.research.google.com/github/Trieuvyy3110/LapTrinhPythonNangCao/blob/main/Lab02/Chuong8.ipynb\" target=\"_parent\"><img src=\"https://colab.research.google.com/assets/colab-badge.svg\" alt=\"Open In Colab\"/></a>"
      ]
    },
    {
      "cell_type": "code",
      "metadata": {
        "id": "QygYZ6mGa_6b"
      },
      "source": [
        "Bài 1:"
      ],
      "execution_count": null,
      "outputs": []
    },
    {
      "cell_type": "code",
      "metadata": {
        "colab": {
          "base_uri": "https://localhost:8080/"
        },
        "id": "XdNOFcDlbQ7b",
        "outputId": "b8c6dbe7-47b1-4d7f-dfba-955ec7b571d5"
      },
      "source": [
        "kingdoms=['Bacteria', 'Protozoa', 'Chromista', \n",
        "'Plantae', 'Fungi',\n",
        "'Animalia']\n",
        "print('Bai 1')\n",
        "print('a:',kingdoms[0])\n",
        "print('b:',kingdoms[5])\n",
        "print('c:',kingdoms[:3])\n",
        "print('d:',kingdoms[2:5])\n",
        "print('e:',kingdoms[4:])\n",
        "print('f:',kingdoms[1:0])"
      ],
      "execution_count": 1,
      "outputs": [
        {
          "output_type": "stream",
          "name": "stdout",
          "text": [
            "Bai 1\n",
            "a: Bacteria\n",
            "b: Animalia\n",
            "c: ['Bacteria', 'Protozoa', 'Chromista']\n",
            "d: ['Chromista', 'Plantae', 'Fungi']\n",
            "e: ['Fungi', 'Animalia']\n",
            "f: []\n",
            "---------------------------\n"
          ]
        }
      ]
    },
    {
      "cell_type": "markdown",
      "metadata": {
        "id": "WLs6xBXobRO6"
      },
      "source": [
        "Bài 2:"
      ]
    },
    {
      "cell_type": "code",
      "metadata": {
        "colab": {
          "base_uri": "https://localhost:8080/"
        },
        "id": "wa__H-LsbRp7",
        "outputId": "fced1bcc-9a69-4a38-a3f6-f0dfc4e1c96c"
      },
      "source": [
        "kingdoms=['Bacteria', 'Protozoa', 'Chromista', \n",
        "'Plantae', 'Fungi',\n",
        "'Animalia']\n",
        "print('Bai 2 : Using negative indices')\n",
        "print('a:',kingdoms[-6])\n",
        "print('b:',kingdoms[-1])\n",
        "print('c:',kingdoms[-6:-3])\n",
        "print('d:',kingdoms[-4:-1])\n",
        "print('e:',kingdoms[-2:])\n",
        "print('f:',kingdoms[-1:-2])"
      ],
      "execution_count": 2,
      "outputs": [
        {
          "output_type": "stream",
          "name": "stdout",
          "text": [
            "Bai 2 : Using negative indices\n",
            "a: Bacteria\n",
            "b: Animalia\n",
            "c: ['Bacteria', 'Protozoa', 'Chromista']\n",
            "d: ['Chromista', 'Plantae', 'Fungi']\n",
            "e: ['Fungi', 'Animalia']\n",
            "f: []\n"
          ]
        }
      ]
    },
    {
      "cell_type": "markdown",
      "metadata": {
        "id": "HreSaf_ubRxa"
      },
      "source": [
        "Bài 3:"
      ]
    },
    {
      "cell_type": "code",
      "metadata": {
        "colab": {
          "base_uri": "https://localhost:8080/"
        },
        "id": "6Ljsq6MsbR4t",
        "outputId": "a4d33a2a-e41c-4f1a-a00d-064c83b66f1c"
      },
      "source": [
        "print('Bai 3:')\n",
        "appointments=['9:00', '10:30', '14:00', '15:00', \n",
        "'15:30']\n",
        "list2=[]\n",
        "list2.extend(appointments)\n",
        "list2.append('16:30')\n",
        "list2+=['16:30']\n",
        "print('List default:',appointments)\n",
        "print('New list:',list2)"
      ],
      "execution_count": 3,
      "outputs": [
        {
          "output_type": "stream",
          "name": "stdout",
          "text": [
            "Bai 3:\n",
            "List default: ['9:00', '10:30', '14:00', '15:00', '15:30']\n",
            "New list: ['9:00', '10:30', '14:00', '15:00', '15:30', '16:30', '16:30']\n"
          ]
        }
      ]
    },
    {
      "cell_type": "markdown",
      "metadata": {
        "id": "rscrlgr1bR_W"
      },
      "source": [
        "Bài 4:"
      ]
    },
    {
      "cell_type": "code",
      "metadata": {
        "colab": {
          "base_uri": "https://localhost:8080/"
        },
        "id": "6BejqyFXbSFl",
        "outputId": "1ab7c33c-e254-48fb-9aa5-56766fda9c02"
      },
      "source": [
        "print('Bai 4')\n",
        "numberlist=[4353, 2314, 2956, 3382, 9362, 3900]\n",
        "numberlist.pop(3)\n",
        "index=numberlist.index(9362)\n",
        "numberlist.insert(4,4492)\n",
        "numberlist.extend([5566,1830])\n",
        "numberlist.reverse()\n",
        "numberlist.sort()\n",
        "print('List:',numberlist)\n",
        "print('Index of 9362 in default list is:',index)"
      ],
      "execution_count": 4,
      "outputs": [
        {
          "output_type": "stream",
          "name": "stdout",
          "text": [
            "Bai 4\n",
            "List: [1830, 2314, 2956, 3900, 4353, 4492, 5566, 9362]\n",
            "Index of 9362 in default list is: 3\n"
          ]
        }
      ]
    },
    {
      "cell_type": "markdown",
      "metadata": {
        "id": "q4ilojchb481"
      },
      "source": [
        "Bài 5:"
      ]
    },
    {
      "cell_type": "code",
      "metadata": {
        "colab": {
          "base_uri": "https://localhost:8080/"
        },
        "id": "a5RL1waMb6fU",
        "outputId": "93ad609d-157c-4ae6-dc51-429a04b9e5e9"
      },
      "source": [
        "ha1=[]\n",
        "alkaline_earth_metals=['beryllium',4,\n",
        "                       'magnesium',12,\n",
        "                       'calcium',20,\n",
        "                       'strontium',38,\n",
        "                       'barium',56,\n",
        "                       'radium',88,]\n",
        "index=alkaline_earth_metals.index('radium')\n",
        "print('Index of radium is: ',index)\n",
        "print('Positive index of Radium','is',alkaline_earth_metals[10])\n",
        "print('Negative index of Radium','is',alkaline_earth_metals[-2])\n",
        "print('Total item in alkaline_earth_metals is:',len(alkaline_earth_metals))\n",
        "high=max(alkaline_earth_metals,key=lambda x:(isinstance(x,int),x))\n",
        "print('The highest atomic number in list is:',high)"
      ],
      "execution_count": 5,
      "outputs": [
        {
          "output_type": "stream",
          "name": "stdout",
          "text": [
            "Index of radium is:  10\n",
            "Positive index of Radium is radium\n",
            "Negative index of Radium is radium\n",
            "Total item in alkaline_earth_metals is: 12\n",
            "The highest atomic number in list is: 88\n"
          ]
        }
      ]
    }
  ]
}