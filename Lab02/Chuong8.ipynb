{
  "nbformat": 4,
  "nbformat_minor": 0,
  "metadata": {
    "colab": {
      "name": "Chuong8.ipynb",
      "provenance": [],
      "authorship_tag": "ABX9TyMcBQTCiKEZy3IGNaBzjl6D",
      "include_colab_link": true
    },
    "kernelspec": {
      "name": "python3",
      "display_name": "Python 3"
    },
    "language_info": {
      "name": "python"
    }
  },
  "cells": [
    {
      "cell_type": "markdown",
      "metadata": {
        "id": "view-in-github",
        "colab_type": "text"
      },
      "source": [
        "<a href=\"https://colab.research.google.com/github/Trieuvyy3110/LapTrinhPythonNangCao/blob/main/Lab02/Chuong8.ipynb\" target=\"_parent\"><img src=\"https://colab.research.google.com/assets/colab-badge.svg\" alt=\"Open In Colab\"/></a>"
      ]
    },
    {
      "cell_type": "code",
      "metadata": {
        "id": "QygYZ6mGa_6b"
      },
      "source": [
        "Bài 1:"
      ],
      "execution_count": null,
      "outputs": []
    },
    {
      "cell_type": "code",
      "metadata": {
        "colab": {
          "base_uri": "https://localhost:8080/"
        },
        "id": "XdNOFcDlbQ7b",
        "outputId": "b8c6dbe7-47b1-4d7f-dfba-955ec7b571d5"
      },
      "source": [
        "kingdoms=['Bacteria', 'Protozoa', 'Chromista', \n",
        "'Plantae', 'Fungi',\n",
        "'Animalia']\n",
        "print('Bai 1')\n",
        "print('a:',kingdoms[0])\n",
        "print('b:',kingdoms[5])\n",
        "print('c:',kingdoms[:3])\n",
        "print('d:',kingdoms[2:5])\n",
        "print('e:',kingdoms[4:])\n",
        "print('f:',kingdoms[1:0])"
      ],
      "execution_count": 1,
      "outputs": [
        {
          "output_type": "stream",
          "name": "stdout",
          "text": [
            "Bai 1\n",
            "a: Bacteria\n",
            "b: Animalia\n",
            "c: ['Bacteria', 'Protozoa', 'Chromista']\n",
            "d: ['Chromista', 'Plantae', 'Fungi']\n",
            "e: ['Fungi', 'Animalia']\n",
            "f: []\n",
            "---------------------------\n"
          ]
        }
      ]
    },
    {
      "cell_type": "markdown",
      "metadata": {
        "id": "WLs6xBXobRO6"
      },
      "source": [
        "Bài 2:"
      ]
    },
    {
      "cell_type": "code",
      "metadata": {
        "colab": {
          "base_uri": "https://localhost:8080/"
        },
        "id": "wa__H-LsbRp7",
        "outputId": "fced1bcc-9a69-4a38-a3f6-f0dfc4e1c96c"
      },
      "source": [
        "kingdoms=['Bacteria', 'Protozoa', 'Chromista', \n",
        "'Plantae', 'Fungi',\n",
        "'Animalia']\n",
        "print('Bai 2 : Using negative indices')\n",
        "print('a:',kingdoms[-6])\n",
        "print('b:',kingdoms[-1])\n",
        "print('c:',kingdoms[-6:-3])\n",
        "print('d:',kingdoms[-4:-1])\n",
        "print('e:',kingdoms[-2:])\n",
        "print('f:',kingdoms[-1:-2])"
      ],
      "execution_count": 2,
      "outputs": [
        {
          "output_type": "stream",
          "name": "stdout",
          "text": [
            "Bai 2 : Using negative indices\n",
            "a: Bacteria\n",
            "b: Animalia\n",
            "c: ['Bacteria', 'Protozoa', 'Chromista']\n",
            "d: ['Chromista', 'Plantae', 'Fungi']\n",
            "e: ['Fungi', 'Animalia']\n",
            "f: []\n"
          ]
        }
      ]
    },
    {
      "cell_type": "markdown",
      "metadata": {
        "id": "HreSaf_ubRxa"
      },
      "source": [
        "Bài 3:"
      ]
    },
    {
      "cell_type": "code",
      "metadata": {
        "colab": {
          "base_uri": "https://localhost:8080/"
        },
        "id": "6Ljsq6MsbR4t",
        "outputId": "a4d33a2a-e41c-4f1a-a00d-064c83b66f1c"
      },
      "source": [
        "print('Bai 3:')\n",
        "appointments=['9:00', '10:30', '14:00', '15:00', \n",
        "'15:30']\n",
        "list2=[]\n",
        "list2.extend(appointments)\n",
        "list2.append('16:30')\n",
        "list2+=['16:30']\n",
        "print('List default:',appointments)\n",
        "print('New list:',list2)"
      ],
      "execution_count": 3,
      "outputs": [
        {
          "output_type": "stream",
          "name": "stdout",
          "text": [
            "Bai 3:\n",
            "List default: ['9:00', '10:30', '14:00', '15:00', '15:30']\n",
            "New list: ['9:00', '10:30', '14:00', '15:00', '15:30', '16:30', '16:30']\n"
          ]
        }
      ]
    },
    {
      "cell_type": "markdown",
      "metadata": {
        "id": "rscrlgr1bR_W"
      },
      "source": [
        "Bài 4:"
      ]
    },
    {
      "cell_type": "code",
      "metadata": {
        "colab": {
          "base_uri": "https://localhost:8080/"
        },
        "id": "6BejqyFXbSFl",
        "outputId": "1ab7c33c-e254-48fb-9aa5-56766fda9c02"
      },
      "source": [
        "print('Bai 4')\n",
        "numberlist=[4353, 2314, 2956, 3382, 9362, 3900]\n",
        "numberlist.pop(3)\n",
        "index=numberlist.index(9362)\n",
        "numberlist.insert(4,4492)\n",
        "numberlist.extend([5566,1830])\n",
        "numberlist.reverse()\n",
        "numberlist.sort()\n",
        "print('List:',numberlist)\n",
        "print('Index of 9362 in default list is:',index)"
      ],
      "execution_count": 4,
      "outputs": [
        {
          "output_type": "stream",
          "name": "stdout",
          "text": [
            "Bai 4\n",
            "List: [1830, 2314, 2956, 3900, 4353, 4492, 5566, 9362]\n",
            "Index of 9362 in default list is: 3\n"
          ]
        }
      ]
    },
    {
      "cell_type": "markdown",
      "metadata": {
        "id": "q4ilojchb481"
      },
      "source": [
        "Bài 5:"
      ]
    },
    {
      "cell_type": "code",
      "metadata": {
        "colab": {
          "base_uri": "https://localhost:8080/"
        },
        "id": "a5RL1waMb6fU",
        "outputId": "93ad609d-157c-4ae6-dc51-429a04b9e5e9"
      },
      "source": [
        "ha1=[]\n",
        "alkaline_earth_metals=['beryllium',4,\n",
        "                       'magnesium',12,\n",
        "                       'calcium',20,\n",
        "                       'strontium',38,\n",
        "                       'barium',56,\n",
        "                       'radium',88,]\n",
        "index=alkaline_earth_metals.index('radium')\n",
        "print('Index of radium is: ',index)\n",
        "print('Positive index of Radium','is',alkaline_earth_metals[10])\n",
        "print('Negative index of Radium','is',alkaline_earth_metals[-2])\n",
        "print('Total item in alkaline_earth_metals is:',len(alkaline_earth_metals))\n",
        "high=max(alkaline_earth_metals,key=lambda x:(isinstance(x,int),x))\n",
        "print('The highest atomic number in list is:',high)"
      ],
      "execution_count": 5,
      "outputs": [
        {
          "output_type": "stream",
          "name": "stdout",
          "text": [
            "Index of radium is:  10\n",
            "Positive index of Radium is radium\n",
            "Negative index of Radium is radium\n",
            "Total item in alkaline_earth_metals is: 12\n",
            "The highest atomic number in list is: 88\n"
          ]
        }
      ]
    },
    {
      "cell_type": "markdown",
      "metadata": {
        "id": "EOMXteJicaUb"
      },
      "source": [
        "Bài 6:"
      ]
    },
    {
      "cell_type": "code",
      "metadata": {
        "colab": {
          "base_uri": "https://localhost:8080/"
        },
        "id": "zFlwQR50cbvM",
        "outputId": "0048bed9-c262-43ee-acd5-5ded858fab2e"
      },
      "source": [
        "temps1=[]\n",
        "temps=[25.2,16.8, 31.4, 23.9, 28, 22.5,19.6]\n",
        "temps1.extend(temps)\n",
        "temps1.sort()\n",
        "cool_temps=temps1[:2]\n",
        "warm_temps=temps1[2:]\n",
        "temps_in_celsius=cool_temps+warm_temps\n",
        "print('DEFAULT TEMPS LIST:',temps,'\\n')\n",
        "print('COOL TEMPS LIST(ABOVE 20 DEGREES):',cool_temps,'\\n')\n",
        "print('WARM TEMPS LIST(BELOW 20 DEGREES):',warm_temps,'\\n')\n",
        "print('TEMPS IN CELSIUS:',temps_in_celsius) "
      ],
      "execution_count": 6,
      "outputs": [
        {
          "output_type": "stream",
          "name": "stdout",
          "text": [
            "DEFAULT TEMPS LIST: [25.2, 16.8, 31.4, 23.9, 28, 22.5, 19.6] \n",
            "\n",
            "COOL TEMPS LIST(ABOVE 20 DEGREES): [16.8, 19.6] \n",
            "\n",
            "WARM TEMPS LIST(BELOW 20 DEGREES): [22.5, 23.9, 25.2, 28, 31.4] \n",
            "\n",
            "TEMPS IN CELSIUS: [16.8, 19.6, 22.5, 23.9, 25.2, 28, 31.4]\n"
          ]
        }
      ]
    },
    {
      "cell_type": "markdown",
      "metadata": {
        "id": "UKqTToAOcf5C"
      },
      "source": [
        "Bài 7:"
      ]
    },
    {
      "cell_type": "code",
      "metadata": {
        "colab": {
          "base_uri": "https://localhost:8080/"
        },
        "id": "yoSYIY1pcgA6",
        "outputId": "a2fdddb2-fa8b-43e3-f689-16ba503b1614"
      },
      "source": [
        "print('Bai 7')\n",
        "def same_first_last(L:list): #len>=2\n",
        "       if L[0]==L[-1]:\n",
        "              return True\n",
        "       else:\n",
        "              return False\n",
        "print(same_first_last([3,2,1,3]))\n",
        "print(same_first_last(['apple', 'banana', 'pear']))\n",
        "print(same_first_last([4.0, 4.5]))"
      ],
      "execution_count": 7,
      "outputs": [
        {
          "output_type": "stream",
          "name": "stdout",
          "text": [
            "Bai 7\n",
            "True\n",
            "False\n",
            "False\n"
          ]
        }
      ]
    },
    {
      "cell_type": "markdown",
      "metadata": {
        "id": "R5qNJuaecgGy"
      },
      "source": [
        "Bài 8:"
      ]
    },
    {
      "cell_type": "code",
      "metadata": {
        "colab": {
          "base_uri": "https://localhost:8080/"
        },
        "id": "bTTspuibcgOC",
        "outputId": "f62c1159-3210-4425-c578-aa2aec29a0e3"
      },
      "source": [
        "print('Bai 8')\n",
        "def is_longer(L1:list,L2:list):\n",
        "       if len(L1)>len(L2):\n",
        "              return True\n",
        "       else:\n",
        "              return False\n",
        "print(is_longer([1, 2, 3], [4, 5])\n",
        ")\n",
        "print(is_longer(['abcdef'], ['ab', 'cd', 'ef']))\n",
        "print(is_longer(['abcdef'], ['ab', 'cd', 'ef']))"
      ],
      "execution_count": 8,
      "outputs": [
        {
          "output_type": "stream",
          "name": "stdout",
          "text": [
            "Bai 8\n",
            "True\n",
            "False\n",
            "False\n"
          ]
        }
      ]
    },
    {
      "cell_type": "markdown",
      "metadata": {
        "id": "KydAj9RxcxQd"
      },
      "source": [
        "Bài 9:"
      ]
    },
    {
      "cell_type": "code",
      "metadata": {
        "colab": {
          "base_uri": "https://localhost:8080/"
        },
        "id": "6-seaaP5cxc0",
        "outputId": "691ed88b-9feb-4325-e9be-c03cb3876d40"
      },
      "source": [
        "print('Bai 9:\\n Example 1:\\n')\n",
        "values=[0,1,2]\n",
        "values[1]=values\n",
        "if (id(values)==id(values[1])):\n",
        "       print('Same')\n",
        "\n",
        "values=[0,1,2,3]\n",
        "if (id(values)!=id(values[1])):\n",
        "       print('Different')\n",
        "print('\\n Example 2:')\n",
        "values=[0,1,2]\n",
        "values[1]=values\n",
        "print('values[1]:',values[1])\n",
        "values=[0,1,2,3]\n",
        "print('values[1]:',values[1])"
      ],
      "execution_count": 9,
      "outputs": [
        {
          "output_type": "stream",
          "name": "stdout",
          "text": [
            "Bai 9:\n",
            " Example 1:\n",
            "\n",
            "Same\n",
            "Different\n",
            "\n",
            " Example 2:\n",
            "values[1]: [0, [...], 2]\n",
            "values[1]: 1\n"
          ]
        }
      ]
    },
    {
      "cell_type": "markdown",
      "metadata": {
        "id": "kxl9l9Lvcxjl"
      },
      "source": [
        "Bài 10:"
      ]
    },
    {
      "cell_type": "code",
      "metadata": {
        "colab": {
          "base_uri": "https://localhost:8080/"
        },
        "id": "bsOeZ86zcxss",
        "outputId": "5bd32147-52c7-4c97-b2f1-0ab8217f8c03"
      },
      "source": [
        "print('Bai 10')\n",
        "nested_list=[['km', 'miles', 'league'],['kg', 'pound', 'stone']]\n",
        "first_inner=nested_list[0]\n",
        "last_inner=nested_list[1]\n",
        "km=first_inner[0]\n",
        "kg=last_inner[0]\n",
        "mileleague=first_inner[1:3]\n",
        "kgpound=last_inner[0:2]\n",
        "print(first_inner)\n",
        "print(last_inner)\n",
        "print(km)\n",
        "print(kg)\n",
        "print(mileleague)\n",
        "print(kgpound)"
      ],
      "execution_count": 10,
      "outputs": [
        {
          "output_type": "stream",
          "name": "stdout",
          "text": [
            "Bai 10\n",
            "['km', 'miles', 'league']\n",
            "['kg', 'pound', 'stone']\n",
            "km\n",
            "kg\n",
            "['miles', 'league']\n",
            "['kg', 'pound']\n"
          ]
        }
      ]
    },
    {
      "cell_type": "markdown",
      "metadata": {
        "id": "CcKshCWPdFkQ"
      },
      "source": [
        "Bài 11:"
      ]
    },
    {
      "cell_type": "code",
      "metadata": {
        "colab": {
          "base_uri": "https://localhost:8080/"
        },
        "id": "8_eOjfF4dFsD",
        "outputId": "b9f67b18-7111-4c88-8a02-53bad403227f"
      },
      "source": [
        "print('Bai 11: Negative indices as task 10 \\n')\n",
        "first_inner2=nested_list[-2]\n",
        "last_inner2=nested_list[-1]\n",
        "km2=first_inner[-3]\n",
        "kg2=last_inner[-3]\n",
        "mileleague2=first_inner2[-2:]\n",
        "kgpound2=last_inner2[:-1]\n",
        "print(first_inner2)\n",
        "print(last_inner2)\n",
        "print(km2)\n",
        "print(kg2)\n",
        "print(mileleague2)\n",
        "print(kgpound2)"
      ],
      "execution_count": 11,
      "outputs": [
        {
          "output_type": "stream",
          "name": "stdout",
          "text": [
            "Bai 11: Negative indices as task 10 \n",
            "\n",
            "['km', 'miles', 'league']\n",
            "['kg', 'pound', 'stone']\n",
            "km\n",
            "kg\n",
            "['miles', 'league']\n",
            "['kg', 'pound']\n"
          ]
        }
      ]
    }
  ]
}