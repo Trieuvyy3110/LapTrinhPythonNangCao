{
  "nbformat": 4,
  "nbformat_minor": 0,
  "metadata": {
    "colab": {
      "name": "Chuong9.ipynb",
      "provenance": [],
      "authorship_tag": "ABX9TyOG6DlG3w0PjEGj5bLkjljK",
      "include_colab_link": true
    },
    "kernelspec": {
      "name": "python3",
      "display_name": "Python 3"
    },
    "language_info": {
      "name": "python"
    }
  },
  "cells": [
    {
      "cell_type": "markdown",
      "metadata": {
        "id": "view-in-github",
        "colab_type": "text"
      },
      "source": [
        "<a href=\"https://colab.research.google.com/github/Trieuvyy3110/LapTrinhPythonNangCao/blob/main/Lab02/Chuong9.ipynb\" target=\"_parent\"><img src=\"https://colab.research.google.com/assets/colab-badge.svg\" alt=\"Open In Colab\"/></a>"
      ]
    },
    {
      "cell_type": "markdown",
      "metadata": {
        "id": "soE59anUdw7E"
      },
      "source": [
        "Bài 1:"
      ]
    },
    {
      "cell_type": "code",
      "metadata": {
        "colab": {
          "base_uri": "https://localhost:8080/"
        },
        "id": "boZde_XCdxVc",
        "outputId": "08a891d9-5663-45b8-aa61-6f0d39f1233e"
      },
      "source": [
        "print('Bai 1')\n",
        "celegans_phenotypes=['Emb','Him', 'Unc', 'Lon', 'Dpy', 'Sma']\n",
        "for phenotype in celegans_phenotypes:\n",
        "       print(phenotype)"
      ],
      "execution_count": 1,
      "outputs": [
        {
          "output_type": "stream",
          "name": "stdout",
          "text": [
            "Bai 1\n",
            "Emb\n",
            "Him\n",
            "Unc\n",
            "Lon\n",
            "Dpy\n",
            "Sma\n"
          ]
        }
      ]
    },
    {
      "cell_type": "markdown",
      "metadata": {
        "id": "-ru2ylCOdxcz"
      },
      "source": [
        "Bài 2:"
      ]
    },
    {
      "cell_type": "code",
      "metadata": {
        "colab": {
          "base_uri": "https://localhost:8080/"
        },
        "id": "UmescvJzdxjL",
        "outputId": "b468fa6a-c730-4cf6-b0a3-0ca1d8f1b8e2"
      },
      "source": [
        "print('Bai 2')\n",
        "half_lives=[87.74, 24110.0,6537.0, 14.4, 376000.0 ]\n",
        "for value in half_lives:\n",
        "       print(value,end=' ;')\n",
        "print()"
      ],
      "execution_count": 2,
      "outputs": [
        {
          "output_type": "stream",
          "name": "stdout",
          "text": [
            "Bai 2\n",
            "87.74 ;24110.0 ;6537.0 ;14.4 ;376000.0 ;\n"
          ]
        }
      ]
    },
    {
      "cell_type": "markdown",
      "metadata": {
        "id": "Qb_Podu5dxo6"
      },
      "source": [
        "Bài 3:"
      ]
    },
    {
      "cell_type": "code",
      "metadata": {
        "colab": {
          "base_uri": "https://localhost:8080/"
        },
        "id": "14ar6I27dxxa",
        "outputId": "f1c9871a-2c63-4fb0-a598-87077ac52d21"
      },
      "source": [
        "print('Bai 3')\n",
        "whales=[5, 4, 7, 3, 2, 3, 2, 6, 4, 2, 1, 7, 1, 3]\n",
        "more_whale=[]\n",
        "for count in whales:\n",
        "       more_whale.append(count +1)\n",
        "print(more_whale)"
      ],
      "execution_count": 3,
      "outputs": [
        {
          "output_type": "stream",
          "name": "stdout",
          "text": [
            "Bai 3\n",
            "[6, 5, 8, 4, 3, 4, 3, 7, 5, 3, 2, 8, 2, 4]\n"
          ]
        }
      ]
    },
    {
      "cell_type": "markdown",
      "metadata": {
        "id": "Zvc7otaHdx3a"
      },
      "source": [
        "Bài 4:"
      ]
    },
    {
      "cell_type": "code",
      "metadata": {
        "colab": {
          "base_uri": "https://localhost:8080/"
        },
        "id": "d_RohhePdx-r",
        "outputId": "44a45a40-42fb-4e22-855c-391a29b565b7"
      },
      "source": [
        "print('Bai 4')\n",
        "number_and_weight=[]\n",
        "earthmetal=[['beryllium',4,9.012],['magnesium',12,24.305],\n",
        "            ['calcium',20,40.078],['strontium',38,87.62],\n",
        "            ['barium',56,137.327],['radium',88,226],]\n",
        "for i in earthmetal:\n",
        "       print(i[1:])"
      ],
      "execution_count": 4,
      "outputs": [
        {
          "output_type": "stream",
          "name": "stdout",
          "text": [
            "Bai 4\n",
            "[4, 9.012]\n",
            "[12, 24.305]\n",
            "[20, 40.078]\n",
            "[38, 87.62]\n",
            "[56, 137.327]\n",
            "[88, 226]\n"
          ]
        }
      ]
    },
    {
      "cell_type": "markdown",
      "metadata": {
        "id": "z6MVVdkidyEi"
      },
      "source": [
        "Bài 5:"
      ]
    },
    {
      "cell_type": "code",
      "metadata": {
        "id": "AQibO3n7dyMb"
      },
      "source": [
        "def mystery_function(values):#Khoi tao ham va chen vao tham so values\n",
        "       result=[] #Khai bao 1 list result rong\n",
        "       for sublist in values: #Cho vong lap sublist chay trong bien values\n",
        "              result.append([sublist[0]])#Them sublist co index=0 vao list result\n",
        "              for i in sublist[1:]:#Cho vong lap i chay trong vong lap sublist tu index 1 tro di\n",
        "                     result[-1].insert(0,i)\n",
        "                     return result\n"
      ],
      "execution_count": 9,
      "outputs": []
    },
    {
      "cell_type": "markdown",
      "metadata": {
        "id": "eBuxInAZdySc"
      },
      "source": [
        "Bài 6:"
      ]
    },
    {
      "cell_type": "code",
      "metadata": {
        "colab": {
          "base_uri": "https://localhost:8080/"
        },
        "id": "no-fVFk1dyZz",
        "outputId": "87b15d4f-9c92-4cc1-db2f-6bc04b60f67e"
      },
      "source": [
        "while True:\n",
        "       a=input(\"If you want to stop ! - Type 'Quit' or 'QUIT':\")\n",
        "       if a=='Quit'or a=='QUIT':\n",
        "              print(\"Succesfully stop\")\n",
        "              break\n",
        "       else:\n",
        "              print(\"Please type again\")\n",
        "              continue "
      ],
      "execution_count": 10,
      "outputs": [
        {
          "output_type": "stream",
          "name": "stdout",
          "text": [
            "If you want to stop ! - Type 'Quit' or 'QUIT':QUIT\n",
            "Succesfully stop\n"
          ]
        }
      ]
    },
    {
      "cell_type": "markdown",
      "metadata": {
        "id": "3WPWSGE9dy8q"
      },
      "source": [
        "Bài 9:"
      ]
    },
    {
      "cell_type": "code",
      "metadata": {
        "colab": {
          "base_uri": "https://localhost:8080/"
        },
        "id": "zKt-H8YbdzDb",
        "outputId": "555903b3-15ca-4351-9001-1d5faf056463"
      },
      "source": [
        "print('Bài 9')\n",
        "for i in range(33,50):\n",
        "       print(i,end=' ')\n"
      ],
      "execution_count": 14,
      "outputs": [
        {
          "output_type": "stream",
          "name": "stdout",
          "text": [
            "Bài 9\n",
            "33 34 35 36 37 38 39 40 41 42 43 44 45 46 47 48 49 "
          ]
        }
      ]
    },
    {
      "cell_type": "markdown",
      "metadata": {
        "id": "Q7RtJbfbdzJZ"
      },
      "source": [
        "Bài 10:"
      ]
    },
    {
      "cell_type": "code",
      "metadata": {
        "colab": {
          "base_uri": "https://localhost:8080/"
        },
        "id": "QyBpf9HZdzQj",
        "outputId": "6427829a-8ca6-4475-fba4-e3308389825f"
      },
      "source": [
        "print('Bài 10')\n",
        "for i in range(10,0,-1):\n",
        "       print(i,end=' ')"
      ],
      "execution_count": 15,
      "outputs": [
        {
          "output_type": "stream",
          "name": "stdout",
          "text": [
            "Bài 10\n",
            "10 9 8 7 6 5 4 3 2 1 "
          ]
        }
      ]
    },
    {
      "cell_type": "markdown",
      "metadata": {
        "id": "fD1oJ0SZfJwO"
      },
      "source": [
        "Bài 11:"
      ]
    },
    {
      "cell_type": "code",
      "metadata": {
        "colab": {
          "base_uri": "https://localhost:8080/"
        },
        "id": "U9fcAUHVfKCE",
        "outputId": "0509d770-7fdb-4314-9216-d1aa4153d209"
      },
      "source": [
        "print('Bai 11')\n",
        "tong=0\n",
        "for i in range(2,23):\n",
        "       dodai=22-2\n",
        "       tong+=i\n",
        "       trungbinh=tong/dodai\n",
        "print('Tong=',tong,'Trung binh=',trungbinh)"
      ],
      "execution_count": 13,
      "outputs": [
        {
          "output_type": "stream",
          "name": "stdout",
          "text": [
            "Bai 11\n",
            "Tong= 252 Trung binh= 12.6\n"
          ]
        }
      ]
    },
    {
      "cell_type": "markdown",
      "metadata": {
        "id": "k-k1DMCyfKkz"
      },
      "source": [
        "Bài 12:"
      ]
    },
    {
      "cell_type": "code",
      "metadata": {
        "colab": {
          "base_uri": "https://localhost:8080/"
        },
        "id": "JHhLIezEfKss",
        "outputId": "cf209c78-8fbb-453b-c01e-ef831083fa45"
      },
      "source": [
        "from typing import List\n",
        "def remove_neg(num_list: List[float]):\n",
        "       for i in set(num_list):\n",
        "              if i<0:\n",
        "                     num_list.remove(i)\n",
        "       print(num_list)\n",
        "numbers=[-5,1,-3, 2,-3,6,-4,-5,8,11]\n",
        "remove_neg(set(numbers))"
      ],
      "execution_count": 16,
      "outputs": [
        {
          "output_type": "stream",
          "name": "stdout",
          "text": [
            "{1, 2, 6, 8, 11}\n"
          ]
        }
      ]
    },
    {
      "cell_type": "markdown",
      "metadata": {
        "id": "Rd4VHrllfK6r"
      },
      "source": [
        "Bài 13:"
      ]
    },
    {
      "cell_type": "code",
      "metadata": {
        "colab": {
          "base_uri": "https://localhost:8080/"
        },
        "id": "Y7qjltn8fLCU",
        "outputId": "8bec30c9-af15-4f7b-e242-79a2b0d9b735"
      },
      "source": [
        "print('Bài 13')\n",
        "for i in range(7):\n",
        "       for j in range(i+1):\n",
        "              print('T',end=' ')\n",
        "       print('')"
      ],
      "execution_count": 20,
      "outputs": [
        {
          "output_type": "stream",
          "name": "stdout",
          "text": [
            "Bài 13\n",
            "T \n",
            "T T \n",
            "T T T \n",
            "T T T T \n",
            "T T T T T \n",
            "T T T T T T \n",
            "T T T T T T T \n"
          ]
        }
      ]
    },
    {
      "cell_type": "markdown",
      "metadata": {
        "id": "kbq7xWJefLJr"
      },
      "source": [
        "Bài 14:"
      ]
    },
    {
      "cell_type": "code",
      "metadata": {
        "colab": {
          "base_uri": "https://localhost:8080/"
        },
        "id": "griLhUqRfLQB",
        "outputId": "c97385b0-3d29-43cc-cc36-87bc6242312c"
      },
      "source": [
        "print('Bai 14')\n",
        "k = 14 - 2\n",
        "for i in range(0, 7):\n",
        "        for j in range(0, k):\n",
        "            print(end=\" \")\n",
        "        k = k - 2\n",
        "        for j in range(0, i+1):\n",
        "            print(\"T \", end=\"\")\n",
        "        print(\"\\r\")"
      ],
      "execution_count": 18,
      "outputs": [
        {
          "output_type": "stream",
          "name": "stdout",
          "text": [
            "Bai 14\n",
            "            T \r\n",
            "          T T \r\n",
            "        T T T \r\n",
            "      T T T T \r\n",
            "    T T T T T \r\n",
            "  T T T T T T \r\n",
            "T T T T T T T \r\n"
          ]
        }
      ]
    },
    {
      "cell_type": "markdown",
      "metadata": {
        "id": "js-QpAaGfLWl"
      },
      "source": [
        "Bài 15:"
      ]
    },
    {
      "cell_type": "code",
      "metadata": {
        "colab": {
          "base_uri": "https://localhost:8080/"
        },
        "id": "BmbvwuQFfLbH",
        "outputId": "0fb64857-d407-4850-8f33-2aeafb104c74"
      },
      "source": [
        "print('Bai 15')\n",
        "n = 7\n",
        "i = 1\n",
        "while i <= n :\n",
        "    j = 1\n",
        "    while j <= i:\n",
        "        print(\"T\", end = \" \")\n",
        "        j += 1\n",
        "    print()\n",
        "    i += 1\n",
        "#TRIANGEL 2\n",
        "n = 7\n",
        "i = 1\n",
        "while i <= n :\n",
        "    j = 1\n",
        "    while j <= i:\n",
        "        print(\"T\", end = \" \")\n",
        "        j += 1\n",
        "    print()\n",
        "    i += 1"
      ],
      "execution_count": 19,
      "outputs": [
        {
          "output_type": "stream",
          "name": "stdout",
          "text": [
            "Bai 15\n",
            "T \n",
            "T T \n",
            "T T T \n",
            "T T T T \n",
            "T T T T T \n",
            "T T T T T T \n",
            "T T T T T T T \n",
            "T \n",
            "T T \n",
            "T T T \n",
            "T T T T \n",
            "T T T T T \n",
            "T T T T T T \n",
            "T T T T T T T \n"
          ]
        }
      ]
    }
  ]
}